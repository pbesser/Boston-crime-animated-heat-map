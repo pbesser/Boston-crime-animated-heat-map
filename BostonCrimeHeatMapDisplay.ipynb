{
 "cells": [
  {
   "cell_type": "markdown",
   "metadata": {},
   "source": [
    "Boston Crime Zone Heatmap made with Python and Folium\n",
    "=========================================="
   ]
  },
  {
   "cell_type": "code",
   "execution_count": null,
   "metadata": {},
   "outputs": [],
   "source": [
    "import folium\n",
    "boston_lat_lon = [ 42.302, -71.1500 ]\n",
    "m = folium.Map(\n",
    "    location=boston_lat_lon,\n",
    "    zoom_start=11,\n",
    "    tiles='https://{s}.tile.opentopomap.org/{z}/{x}/{y}.png',\n",
    "    attr='Map data: &copy; <a href=\"https://www.openstreetmap.org/copyright\">OpenStreetMap</a> contributors, <a href=\"http://viewfinderpanoramas.org\">SRTM</a> | Map style: &copy; <a href=\"https://opentopomap.org\">OpenTopoMap</a> (<a href=\"https://creativecommons.org/licenses/by-sa/3.0/\">CC-BY-SA</a>)'\n",
    ")\n",
    "m"
   ]
  },
  {
   "cell_type": "markdown",
   "metadata": {},
   "source": [
    "Import data from file"
   ]
  },
  {
   "cell_type": "code",
   "execution_count": null,
   "metadata": {},
   "outputs": [],
   "source": [
    "import pandas as pd\n",
    "df = pd.read_csv(\"boston_crime.csv\")\n"
   ]
  },
  {
   "cell_type": "markdown",
   "metadata": {},
   "source": [
    "Access dataframe values"
   ]
  },
  {
   "cell_type": "code",
   "execution_count": null,
   "metadata": {},
   "outputs": [],
   "source": [
    "df.head()"
   ]
  },
  {
   "cell_type": "markdown",
   "metadata": {},
   "source": [
    "Rename columns."
   ]
  },
  {
   "cell_type": "code",
   "execution_count": null,
   "metadata": {},
   "outputs": [],
   "source": [
    "columns = {\n",
    "    'OCCURRED_ON_DATE': 'date',\n",
    "    'OFFENSE_CODE_GROUP': 'offense',\n",
    "    'SHOOTING': 'shooting',\n",
    "    'Lat': 'lat',\n",
    "    'Long': 'lon',\n",
    "}\n",
    "df = df.rename(columns=columns)\n",
    "df = df[ list(columns.values()) ]\n"
   ]
  },
  {
   "cell_type": "markdown",
   "metadata": {},
   "source": [
    "Deal with data types"
   ]
  },
  {
   "cell_type": "code",
   "execution_count": null,
   "metadata": {},
   "outputs": [],
   "source": [
    "type(df.date[0])\n",
    "df.date = pd.to_datetime(df.date)\n",
    "df = df.sort_values(by='date')\n",
    "print(df.date[0:10])"
   ]
  },
  {
   "cell_type": "markdown",
   "metadata": {},
   "source": [
    "Deal with null values."
   ]
  },
  {
   "cell_type": "code",
   "execution_count": null,
   "metadata": {},
   "outputs": [],
   "source": [
    "df.shooting = (df.shooting == \"Y\")\n",
    "df = df.dropna()\n",
    "df.head()"
   ]
  },
  {
   "cell_type": "markdown",
   "metadata": {},
   "source": [
    "Group data by month"
   ]
  },
  {
   "cell_type": "code",
   "execution_count": null,
   "metadata": {},
   "outputs": [],
   "source": [
    "import datetime\n",
    "from dateutil.relativedelta import relativedelta\n",
    "\n",
    "months = []\n",
    "start = datetime.datetime(2015, 6, 1)\n",
    "while start < df.date.max():\n",
    "    end = start + relativedelta(months=+1)\n",
    "    mask = (start <= df.date) & (df.date < end)\n",
    "    df_month = df[mask]\n",
    "    df_month = df_month[ ['lat', 'lon']]\n",
    "    months.append(df_month)\n",
    "    start = end\n",
    "print(months[0])"
   ]
  },
  {
   "cell_type": "markdown",
   "metadata": {},
   "source": [
    "Create heatmap"
   ]
  },
  {
   "cell_type": "code",
   "execution_count": null,
   "metadata": {},
   "outputs": [],
   "source": [
    "from folium.plugins import HeatMapWithTime\n",
    "\n",
    "m = folium.Map(boston_lat_lon, zoom_start=11)\n",
    "hm = HeatMapWithTime(\n",
    "    data=[ m.values.tolist() for m in months ],\n",
    "    radius=5,\n",
    "    max_opacity=0.5,\n",
    "    auto_play=False,\n",
    ")\n",
    "hm.add_to(m)\n",
    "m"
   ]
  },
  {
   "cell_type": "markdown",
   "metadata": {},
   "source": [
    "Spatially clustered data"
   ]
  },
  {
   "cell_type": "code",
   "execution_count": null,
   "metadata": {},
   "outputs": [],
   "source": [
    "LAT_LON_GRID = 0.005\n",
    "\n",
    "def custom_round(val, resolution):\n",
    "    return round(val / resolution) * resolution\n",
    "\n",
    "def cluster(df_interval):\n",
    "    data = df_interval.copy()\n",
    "    data = custom_round(data, LAT_LON_GRID)\n",
    "    data = data.groupby([\"lat\", \"lon\"]).size().reset_index(name=\"weight\")\n",
    "    data.weight = data.weight / data.weight.max()\n",
    "    return data\n",
    "\n",
    "start = datetime.datetime(2015, 6, 1)\n",
    "\n",
    "end = start + relativedelta(months=+1)\n",
    "mask = (start <= df.date) & (df.date < end)\n",
    "df_month = df[mask]\n",
    "df_month = df_month[ ['lat', 'lon']]\n",
    "\n",
    "print(cluster(df_month))"
   ]
  },
  {
   "cell_type": "markdown",
   "metadata": {},
   "source": [
    "Redraw heat map"
   ]
  },
  {
   "cell_type": "code",
   "execution_count": null,
   "metadata": {},
   "outputs": [],
   "source": [
    "from folium.plugins import HeatMapWithTime\n",
    "\n",
    "m = folium.Map(boston_lat_lon, zoom_start=11)\n",
    "hm = HeatMapWithTime(\n",
    "    data=[ cluster(m).values.tolist() for m in months ],\n",
    "    radius=15,\n",
    "    max_opacity=0.5,\n",
    "    auto_play=False,\n",
    ")\n",
    "hm.add_to(m)\n",
    "m"
   ]
  }
 ],
 "metadata": {
  "kernelspec": {
   "display_name": "Python 3",
   "language": "python",
   "name": "python3"
  },
  "language_info": {
   "codemirror_mode": {
    "name": "ipython",
    "version": 3
   },
   "file_extension": ".py",
   "mimetype": "text/x-python",
   "name": "python",
   "nbconvert_exporter": "python",
   "pygments_lexer": "ipython3",
   "version": "3.6.9"
  }
 },
 "nbformat": 4,
 "nbformat_minor": 4
}
